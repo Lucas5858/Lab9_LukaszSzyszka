{
 "cells": [
  {
   "cell_type": "markdown",
   "metadata": {
    "pycharm": {
     "name": "#%% md\n"
    }
   },
   "source": [
    "### Łukasz Szyszka, Gr. Nr 6, Piątki Godz. 08:00\n",
    "\n",
    "<center> Naiwny klasyfikator bayesowski</center>\n",
    "\n",
    "Celem ćwiczenia jest zapoznanie się z technikami konstrukcji naiwnego klasyfikatora bayesowskiego.\n",
    "\n",
    "Ćwiczenie oparte jest o artykuł z [linku](https://www.kaggle.com/prashant111/naive-bayes-classifier-in-python/notebook)"
   ]
  },
  {
   "cell_type": "code",
   "execution_count": 46,
   "metadata": {
    "pycharm": {
     "name": "#%%\n"
    }
   },
   "outputs": [],
   "source": [
    "import numpy as np\n",
    "import pandas as pd \n",
    "import matplotlib.pyplot as plt\n",
    "import seaborn as sns \n",
    "from sklearn.model_selection import train_test_split\n",
    "import category_encoders as ce\n",
    "from sklearn.naive_bayes import GaussianNB\n",
    "from sklearn.metrics import confusion_matrix, accuracy_score\n",
    "from sklearn.preprocessing import RobustScaler\n",
    "import warnings\n",
    "warnings.filterwarnings(\"ignore\")"
   ]
  },
  {
   "cell_type": "markdown",
   "metadata": {
    "pycharm": {
     "name": "#%% md\n"
    }
   },
   "source": [
    "Na początku proszę wczytać plik __data.csv__ używając jako separatora ',':"
   ]
  },
  {
   "cell_type": "code",
   "execution_count": 47,
   "metadata": {
    "pycharm": {
     "name": "#%%\n"
    }
   },
   "outputs": [
    {
     "name": "stdout",
     "output_type": "stream",
     "text": [
      "Wczytana baza danych:\n"
     ]
    },
    {
     "data": {
      "text/plain": "       age          workclass  fnlwgt    education  education_num  \\\n0       39          State-gov   77516    Bachelors             13   \n1       50   Self-emp-not-inc   83311    Bachelors             13   \n2       38            Private  215646      HS-grad              9   \n3       53            Private  234721         11th              7   \n4       28            Private  338409    Bachelors             13   \n...    ...                ...     ...          ...            ...   \n32556   27            Private  257302   Assoc-acdm             12   \n32557   40            Private  154374      HS-grad              9   \n32558   58            Private  151910      HS-grad              9   \n32559   22            Private  201490      HS-grad              9   \n32560   52       Self-emp-inc  287927      HS-grad              9   \n\n            marital_status          occupation    relationship    race  \\\n0            Never-married        Adm-clerical   Not-in-family   White   \n1       Married-civ-spouse     Exec-managerial         Husband   White   \n2                 Divorced   Handlers-cleaners   Not-in-family   White   \n3       Married-civ-spouse   Handlers-cleaners         Husband   Black   \n4       Married-civ-spouse      Prof-specialty            Wife   Black   \n...                    ...                 ...             ...     ...   \n32556   Married-civ-spouse        Tech-support            Wife   White   \n32557   Married-civ-spouse   Machine-op-inspct         Husband   White   \n32558              Widowed        Adm-clerical       Unmarried   White   \n32559        Never-married        Adm-clerical       Own-child   White   \n32560   Married-civ-spouse     Exec-managerial            Wife   White   \n\n           sex  capital_gain  capital_loss  hours_per_week  native_country  \\\n0         Male          2174             0              40   United-States   \n1         Male             0             0              13   United-States   \n2         Male             0             0              40   United-States   \n3         Male             0             0              40   United-States   \n4       Female             0             0              40            Cuba   \n...        ...           ...           ...             ...             ...   \n32556   Female             0             0              38   United-States   \n32557     Male             0             0              40   United-States   \n32558   Female             0             0              40   United-States   \n32559     Male             0             0              20   United-States   \n32560   Female         15024             0              40   United-States   \n\n       income  \n0       <=50K  \n1       <=50K  \n2       <=50K  \n3       <=50K  \n4       <=50K  \n...       ...  \n32556   <=50K  \n32557    >50K  \n32558   <=50K  \n32559   <=50K  \n32560    >50K  \n\n[32561 rows x 15 columns]",
      "text/html": "<div>\n<style scoped>\n    .dataframe tbody tr th:only-of-type {\n        vertical-align: middle;\n    }\n\n    .dataframe tbody tr th {\n        vertical-align: top;\n    }\n\n    .dataframe thead th {\n        text-align: right;\n    }\n</style>\n<table border=\"1\" class=\"dataframe\">\n  <thead>\n    <tr style=\"text-align: right;\">\n      <th></th>\n      <th>age</th>\n      <th>workclass</th>\n      <th>fnlwgt</th>\n      <th>education</th>\n      <th>education_num</th>\n      <th>marital_status</th>\n      <th>occupation</th>\n      <th>relationship</th>\n      <th>race</th>\n      <th>sex</th>\n      <th>capital_gain</th>\n      <th>capital_loss</th>\n      <th>hours_per_week</th>\n      <th>native_country</th>\n      <th>income</th>\n    </tr>\n  </thead>\n  <tbody>\n    <tr>\n      <th>0</th>\n      <td>39</td>\n      <td>State-gov</td>\n      <td>77516</td>\n      <td>Bachelors</td>\n      <td>13</td>\n      <td>Never-married</td>\n      <td>Adm-clerical</td>\n      <td>Not-in-family</td>\n      <td>White</td>\n      <td>Male</td>\n      <td>2174</td>\n      <td>0</td>\n      <td>40</td>\n      <td>United-States</td>\n      <td>&lt;=50K</td>\n    </tr>\n    <tr>\n      <th>1</th>\n      <td>50</td>\n      <td>Self-emp-not-inc</td>\n      <td>83311</td>\n      <td>Bachelors</td>\n      <td>13</td>\n      <td>Married-civ-spouse</td>\n      <td>Exec-managerial</td>\n      <td>Husband</td>\n      <td>White</td>\n      <td>Male</td>\n      <td>0</td>\n      <td>0</td>\n      <td>13</td>\n      <td>United-States</td>\n      <td>&lt;=50K</td>\n    </tr>\n    <tr>\n      <th>2</th>\n      <td>38</td>\n      <td>Private</td>\n      <td>215646</td>\n      <td>HS-grad</td>\n      <td>9</td>\n      <td>Divorced</td>\n      <td>Handlers-cleaners</td>\n      <td>Not-in-family</td>\n      <td>White</td>\n      <td>Male</td>\n      <td>0</td>\n      <td>0</td>\n      <td>40</td>\n      <td>United-States</td>\n      <td>&lt;=50K</td>\n    </tr>\n    <tr>\n      <th>3</th>\n      <td>53</td>\n      <td>Private</td>\n      <td>234721</td>\n      <td>11th</td>\n      <td>7</td>\n      <td>Married-civ-spouse</td>\n      <td>Handlers-cleaners</td>\n      <td>Husband</td>\n      <td>Black</td>\n      <td>Male</td>\n      <td>0</td>\n      <td>0</td>\n      <td>40</td>\n      <td>United-States</td>\n      <td>&lt;=50K</td>\n    </tr>\n    <tr>\n      <th>4</th>\n      <td>28</td>\n      <td>Private</td>\n      <td>338409</td>\n      <td>Bachelors</td>\n      <td>13</td>\n      <td>Married-civ-spouse</td>\n      <td>Prof-specialty</td>\n      <td>Wife</td>\n      <td>Black</td>\n      <td>Female</td>\n      <td>0</td>\n      <td>0</td>\n      <td>40</td>\n      <td>Cuba</td>\n      <td>&lt;=50K</td>\n    </tr>\n    <tr>\n      <th>...</th>\n      <td>...</td>\n      <td>...</td>\n      <td>...</td>\n      <td>...</td>\n      <td>...</td>\n      <td>...</td>\n      <td>...</td>\n      <td>...</td>\n      <td>...</td>\n      <td>...</td>\n      <td>...</td>\n      <td>...</td>\n      <td>...</td>\n      <td>...</td>\n      <td>...</td>\n    </tr>\n    <tr>\n      <th>32556</th>\n      <td>27</td>\n      <td>Private</td>\n      <td>257302</td>\n      <td>Assoc-acdm</td>\n      <td>12</td>\n      <td>Married-civ-spouse</td>\n      <td>Tech-support</td>\n      <td>Wife</td>\n      <td>White</td>\n      <td>Female</td>\n      <td>0</td>\n      <td>0</td>\n      <td>38</td>\n      <td>United-States</td>\n      <td>&lt;=50K</td>\n    </tr>\n    <tr>\n      <th>32557</th>\n      <td>40</td>\n      <td>Private</td>\n      <td>154374</td>\n      <td>HS-grad</td>\n      <td>9</td>\n      <td>Married-civ-spouse</td>\n      <td>Machine-op-inspct</td>\n      <td>Husband</td>\n      <td>White</td>\n      <td>Male</td>\n      <td>0</td>\n      <td>0</td>\n      <td>40</td>\n      <td>United-States</td>\n      <td>&gt;50K</td>\n    </tr>\n    <tr>\n      <th>32558</th>\n      <td>58</td>\n      <td>Private</td>\n      <td>151910</td>\n      <td>HS-grad</td>\n      <td>9</td>\n      <td>Widowed</td>\n      <td>Adm-clerical</td>\n      <td>Unmarried</td>\n      <td>White</td>\n      <td>Female</td>\n      <td>0</td>\n      <td>0</td>\n      <td>40</td>\n      <td>United-States</td>\n      <td>&lt;=50K</td>\n    </tr>\n    <tr>\n      <th>32559</th>\n      <td>22</td>\n      <td>Private</td>\n      <td>201490</td>\n      <td>HS-grad</td>\n      <td>9</td>\n      <td>Never-married</td>\n      <td>Adm-clerical</td>\n      <td>Own-child</td>\n      <td>White</td>\n      <td>Male</td>\n      <td>0</td>\n      <td>0</td>\n      <td>20</td>\n      <td>United-States</td>\n      <td>&lt;=50K</td>\n    </tr>\n    <tr>\n      <th>32560</th>\n      <td>52</td>\n      <td>Self-emp-inc</td>\n      <td>287927</td>\n      <td>HS-grad</td>\n      <td>9</td>\n      <td>Married-civ-spouse</td>\n      <td>Exec-managerial</td>\n      <td>Wife</td>\n      <td>White</td>\n      <td>Female</td>\n      <td>15024</td>\n      <td>0</td>\n      <td>40</td>\n      <td>United-States</td>\n      <td>&gt;50K</td>\n    </tr>\n  </tbody>\n</table>\n<p>32561 rows × 15 columns</p>\n</div>"
     },
     "metadata": {},
     "output_type": "display_data"
    }
   ],
   "source": [
    "df = pd.read_csv('data.csv', sep=',')\n",
    "new_df = df.copy()\n",
    "print('Wczytana baza danych:')\n",
    "display(new_df)"
   ]
  },
  {
   "cell_type": "markdown",
   "metadata": {
    "pycharm": {
     "name": "#%% md\n"
    }
   },
   "source": [
    "W następnie sprawdź które z kolumn zawierają dane tekstowe lub liczbowe. W tym celu sprawdź wartość  argumentu *dtype* z odpowiednim warunkiem:"
   ]
  },
  {
   "cell_type": "code",
   "execution_count": 48,
   "metadata": {
    "pycharm": {
     "name": "#%%\n"
    }
   },
   "outputs": [
    {
     "name": "stdout",
     "output_type": "stream",
     "text": [
      "Nazwy kolumn zawierające dane tekstowe:\n",
      "workclass\n",
      "education\n",
      "marital_status\n",
      "occupation\n",
      "relationship\n",
      "race\n",
      "sex\n",
      "native_country\n",
      "income\n",
      "\n",
      "Nazwy kolumn zawierające dane liczbowe:\n",
      "age\n",
      "fnlwgt\n",
      "education_num\n",
      "capital_gain\n",
      "capital_loss\n",
      "hours_per_week\n"
     ]
    }
   ],
   "source": [
    "text_category = [col for col in df.columns if new_df[col].dtype == 'O']\n",
    "\n",
    "print('Nazwy kolumn zawierające dane tekstowe:')\n",
    "for obj in text_category:\n",
    "    print(obj)\n",
    "\n",
    "num_category = [col for col in df.columns if new_df[col].dtype != 'O']\n",
    "\n",
    "print('\\nNazwy kolumn zawierające dane liczbowe:')\n",
    "for obj in num_category:\n",
    "    print(obj)"
   ]
  },
  {
   "cell_type": "markdown",
   "metadata": {
    "pycharm": {
     "name": "#%% md\n"
    }
   },
   "source": [
    "Sprawdź czy dane w kolumnach nie zawierają braków a jeżeli tak uzupełnij je według znanych Ci metod:"
   ]
  },
  {
   "cell_type": "code",
   "execution_count": 49,
   "metadata": {
    "pycharm": {
     "name": "#%%\n"
    }
   },
   "outputs": [
    {
     "name": "stdout",
     "output_type": "stream",
     "text": [
      "Nazwa kolumny: age\n",
      "Dane z kolumny i ich liczba wystąpień:\n",
      "36    898\n",
      "31    888\n",
      "34    886\n",
      "23    877\n",
      "35    876\n",
      "     ... \n",
      "83      6\n",
      "88      3\n",
      "85      3\n",
      "86      1\n",
      "87      1\n",
      "Name: age, Length: 73, dtype: int64 \n",
      "\n",
      "Nazwa kolumny: workclass\n",
      "Dane z kolumny i ich liczba wystąpień:\n",
      " Private             22696\n",
      " Self-emp-not-inc     2541\n",
      " Local-gov            2093\n",
      " ?                    1836\n",
      " State-gov            1298\n",
      " Self-emp-inc         1116\n",
      " Federal-gov           960\n",
      " Without-pay            14\n",
      " Never-worked            7\n",
      "Name: workclass, dtype: int64 \n",
      "\n",
      "Nazwa kolumny: fnlwgt\n",
      "Dane z kolumny i ich liczba wystąpień:\n",
      "164190    13\n",
      "203488    13\n",
      "123011    13\n",
      "148995    12\n",
      "121124    12\n",
      "          ..\n",
      "232784     1\n",
      "325573     1\n",
      "140176     1\n",
      "318264     1\n",
      "257302     1\n",
      "Name: fnlwgt, Length: 21648, dtype: int64 \n",
      "\n",
      "Nazwa kolumny: education\n",
      "Dane z kolumny i ich liczba wystąpień:\n",
      " HS-grad         10501\n",
      " Some-college     7291\n",
      " Bachelors        5355\n",
      " Masters          1723\n",
      " Assoc-voc        1382\n",
      " 11th             1175\n",
      " Assoc-acdm       1067\n",
      " 10th              933\n",
      " 7th-8th           646\n",
      " Prof-school       576\n",
      " 9th               514\n",
      " 12th              433\n",
      " Doctorate         413\n",
      " 5th-6th           333\n",
      " 1st-4th           168\n",
      " Preschool          51\n",
      "Name: education, dtype: int64 \n",
      "\n",
      "Nazwa kolumny: education_num\n",
      "Dane z kolumny i ich liczba wystąpień:\n",
      "9     10501\n",
      "10     7291\n",
      "13     5355\n",
      "14     1723\n",
      "11     1382\n",
      "7      1175\n",
      "12     1067\n",
      "6       933\n",
      "4       646\n",
      "15      576\n",
      "5       514\n",
      "8       433\n",
      "16      413\n",
      "3       333\n",
      "2       168\n",
      "1        51\n",
      "Name: education_num, dtype: int64 \n",
      "\n",
      "Nazwa kolumny: marital_status\n",
      "Dane z kolumny i ich liczba wystąpień:\n",
      " Married-civ-spouse       14976\n",
      " Never-married            10683\n",
      " Divorced                  4443\n",
      " Separated                 1025\n",
      " Widowed                    993\n",
      " Married-spouse-absent      418\n",
      " Married-AF-spouse           23\n",
      "Name: marital_status, dtype: int64 \n",
      "\n",
      "Nazwa kolumny: occupation\n",
      "Dane z kolumny i ich liczba wystąpień:\n",
      " Prof-specialty       4140\n",
      " Craft-repair         4099\n",
      " Exec-managerial      4066\n",
      " Adm-clerical         3770\n",
      " Sales                3650\n",
      " Other-service        3295\n",
      " Machine-op-inspct    2002\n",
      " ?                    1843\n",
      " Transport-moving     1597\n",
      " Handlers-cleaners    1370\n",
      " Farming-fishing       994\n",
      " Tech-support          928\n",
      " Protective-serv       649\n",
      " Priv-house-serv       149\n",
      " Armed-Forces            9\n",
      "Name: occupation, dtype: int64 \n",
      "\n",
      "Nazwa kolumny: relationship\n",
      "Dane z kolumny i ich liczba wystąpień:\n",
      " Husband           13193\n",
      " Not-in-family      8305\n",
      " Own-child          5068\n",
      " Unmarried          3446\n",
      " Wife               1568\n",
      " Other-relative      981\n",
      "Name: relationship, dtype: int64 \n",
      "\n",
      "Nazwa kolumny: race\n",
      "Dane z kolumny i ich liczba wystąpień:\n",
      " White                 27816\n",
      " Black                  3124\n",
      " Asian-Pac-Islander     1039\n",
      " Amer-Indian-Eskimo      311\n",
      " Other                   271\n",
      "Name: race, dtype: int64 \n",
      "\n",
      "Nazwa kolumny: sex\n",
      "Dane z kolumny i ich liczba wystąpień:\n",
      " Male      21790\n",
      " Female    10771\n",
      "Name: sex, dtype: int64 \n",
      "\n",
      "Nazwa kolumny: capital_gain\n",
      "Dane z kolumny i ich liczba wystąpień:\n",
      "0        29849\n",
      "15024      347\n",
      "7688       284\n",
      "7298       246\n",
      "99999      159\n",
      "         ...  \n",
      "1111         1\n",
      "2538         1\n",
      "22040        1\n",
      "4931         1\n",
      "5060         1\n",
      "Name: capital_gain, Length: 119, dtype: int64 \n",
      "\n",
      "Nazwa kolumny: capital_loss\n",
      "Dane z kolumny i ich liczba wystąpień:\n",
      "0       31042\n",
      "1902      202\n",
      "1977      168\n",
      "1887      159\n",
      "1848       51\n",
      "        ...  \n",
      "2080        1\n",
      "1539        1\n",
      "1844        1\n",
      "2489        1\n",
      "1411        1\n",
      "Name: capital_loss, Length: 92, dtype: int64 \n",
      "\n",
      "Nazwa kolumny: hours_per_week\n",
      "Dane z kolumny i ich liczba wystąpień:\n",
      "40    15217\n",
      "50     2819\n",
      "45     1824\n",
      "60     1475\n",
      "35     1297\n",
      "      ...  \n",
      "82        1\n",
      "92        1\n",
      "87        1\n",
      "74        1\n",
      "94        1\n",
      "Name: hours_per_week, Length: 94, dtype: int64 \n",
      "\n",
      "Nazwa kolumny: native_country\n",
      "Dane z kolumny i ich liczba wystąpień:\n",
      " United-States                 29170\n",
      " Mexico                          643\n",
      " ?                               583\n",
      " Philippines                     198\n",
      " Germany                         137\n",
      " Canada                          121\n",
      " Puerto-Rico                     114\n",
      " El-Salvador                     106\n",
      " India                           100\n",
      " Cuba                             95\n",
      " England                          90\n",
      " Jamaica                          81\n",
      " South                            80\n",
      " China                            75\n",
      " Italy                            73\n",
      " Dominican-Republic               70\n",
      " Vietnam                          67\n",
      " Guatemala                        64\n",
      " Japan                            62\n",
      " Poland                           60\n",
      " Columbia                         59\n",
      " Taiwan                           51\n",
      " Haiti                            44\n",
      " Iran                             43\n",
      " Portugal                         37\n",
      " Nicaragua                        34\n",
      " Peru                             31\n",
      " France                           29\n",
      " Greece                           29\n",
      " Ecuador                          28\n",
      " Ireland                          24\n",
      " Hong                             20\n",
      " Cambodia                         19\n",
      " Trinadad&Tobago                  19\n",
      " Laos                             18\n",
      " Thailand                         18\n",
      " Yugoslavia                       16\n",
      " Outlying-US(Guam-USVI-etc)       14\n",
      " Honduras                         13\n",
      " Hungary                          13\n",
      " Scotland                         12\n",
      " Holand-Netherlands                1\n",
      "Name: native_country, dtype: int64 \n",
      "\n",
      "Nazwa kolumny: income\n",
      "Dane z kolumny i ich liczba wystąpień:\n",
      " <=50K    24720\n",
      " >50K      7841\n",
      "Name: income, dtype: int64 \n",
      "\n"
     ]
    }
   ],
   "source": [
    "for column in new_df.columns:\n",
    "    print(\"Nazwa kolumny: {}\".format(column))\n",
    "    print(\"Dane z kolumny i ich liczba wystąpień:\")\n",
    "    print(new_df[column].value_counts(), '\\n')"
   ]
  },
  {
   "cell_type": "markdown",
   "source": [
    "Jak widać, baza danych wykorzystuje sekwencję znaków \" ?\" do oznaczenia miejsc, gdzie brakuje danych. Takie sekwencje warto dla wygodniejszej analizy zastąpić wartościami np.nan."
   ],
   "metadata": {
    "collapsed": false,
    "pycharm": {
     "name": "#%% md\n"
    }
   }
  },
  {
   "cell_type": "code",
   "execution_count": 50,
   "outputs": [
    {
     "name": "stdout",
     "output_type": "stream",
     "text": [
      "Nazwa kolumny: age\n",
      "Dane z kolumny i ich liczba wystąpień:\n",
      "36    898\n",
      "31    888\n",
      "34    886\n",
      "23    877\n",
      "35    876\n",
      "     ... \n",
      "83      6\n",
      "88      3\n",
      "85      3\n",
      "86      1\n",
      "87      1\n",
      "Name: age, Length: 73, dtype: int64 \n",
      "\n",
      "Nazwa kolumny: workclass\n",
      "Dane z kolumny i ich liczba wystąpień:\n",
      " Private             22696\n",
      " Self-emp-not-inc     2541\n",
      " Local-gov            2093\n",
      " State-gov            1298\n",
      " Self-emp-inc         1116\n",
      " Federal-gov           960\n",
      " Without-pay            14\n",
      " Never-worked            7\n",
      "Name: workclass, dtype: int64 \n",
      "\n",
      "Nazwa kolumny: fnlwgt\n",
      "Dane z kolumny i ich liczba wystąpień:\n",
      "164190    13\n",
      "203488    13\n",
      "123011    13\n",
      "148995    12\n",
      "121124    12\n",
      "          ..\n",
      "232784     1\n",
      "325573     1\n",
      "140176     1\n",
      "318264     1\n",
      "257302     1\n",
      "Name: fnlwgt, Length: 21648, dtype: int64 \n",
      "\n",
      "Nazwa kolumny: education\n",
      "Dane z kolumny i ich liczba wystąpień:\n",
      " HS-grad         10501\n",
      " Some-college     7291\n",
      " Bachelors        5355\n",
      " Masters          1723\n",
      " Assoc-voc        1382\n",
      " 11th             1175\n",
      " Assoc-acdm       1067\n",
      " 10th              933\n",
      " 7th-8th           646\n",
      " Prof-school       576\n",
      " 9th               514\n",
      " 12th              433\n",
      " Doctorate         413\n",
      " 5th-6th           333\n",
      " 1st-4th           168\n",
      " Preschool          51\n",
      "Name: education, dtype: int64 \n",
      "\n",
      "Nazwa kolumny: education_num\n",
      "Dane z kolumny i ich liczba wystąpień:\n",
      "9     10501\n",
      "10     7291\n",
      "13     5355\n",
      "14     1723\n",
      "11     1382\n",
      "7      1175\n",
      "12     1067\n",
      "6       933\n",
      "4       646\n",
      "15      576\n",
      "5       514\n",
      "8       433\n",
      "16      413\n",
      "3       333\n",
      "2       168\n",
      "1        51\n",
      "Name: education_num, dtype: int64 \n",
      "\n",
      "Nazwa kolumny: marital_status\n",
      "Dane z kolumny i ich liczba wystąpień:\n",
      " Married-civ-spouse       14976\n",
      " Never-married            10683\n",
      " Divorced                  4443\n",
      " Separated                 1025\n",
      " Widowed                    993\n",
      " Married-spouse-absent      418\n",
      " Married-AF-spouse           23\n",
      "Name: marital_status, dtype: int64 \n",
      "\n",
      "Nazwa kolumny: occupation\n",
      "Dane z kolumny i ich liczba wystąpień:\n",
      " Prof-specialty       4140\n",
      " Craft-repair         4099\n",
      " Exec-managerial      4066\n",
      " Adm-clerical         3770\n",
      " Sales                3650\n",
      " Other-service        3295\n",
      " Machine-op-inspct    2002\n",
      " Transport-moving     1597\n",
      " Handlers-cleaners    1370\n",
      " Farming-fishing       994\n",
      " Tech-support          928\n",
      " Protective-serv       649\n",
      " Priv-house-serv       149\n",
      " Armed-Forces            9\n",
      "Name: occupation, dtype: int64 \n",
      "\n",
      "Nazwa kolumny: relationship\n",
      "Dane z kolumny i ich liczba wystąpień:\n",
      " Husband           13193\n",
      " Not-in-family      8305\n",
      " Own-child          5068\n",
      " Unmarried          3446\n",
      " Wife               1568\n",
      " Other-relative      981\n",
      "Name: relationship, dtype: int64 \n",
      "\n",
      "Nazwa kolumny: race\n",
      "Dane z kolumny i ich liczba wystąpień:\n",
      " White                 27816\n",
      " Black                  3124\n",
      " Asian-Pac-Islander     1039\n",
      " Amer-Indian-Eskimo      311\n",
      " Other                   271\n",
      "Name: race, dtype: int64 \n",
      "\n",
      "Nazwa kolumny: sex\n",
      "Dane z kolumny i ich liczba wystąpień:\n",
      " Male      21790\n",
      " Female    10771\n",
      "Name: sex, dtype: int64 \n",
      "\n",
      "Nazwa kolumny: capital_gain\n",
      "Dane z kolumny i ich liczba wystąpień:\n",
      "0        29849\n",
      "15024      347\n",
      "7688       284\n",
      "7298       246\n",
      "99999      159\n",
      "         ...  \n",
      "1111         1\n",
      "2538         1\n",
      "22040        1\n",
      "4931         1\n",
      "5060         1\n",
      "Name: capital_gain, Length: 119, dtype: int64 \n",
      "\n",
      "Nazwa kolumny: capital_loss\n",
      "Dane z kolumny i ich liczba wystąpień:\n",
      "0       31042\n",
      "1902      202\n",
      "1977      168\n",
      "1887      159\n",
      "1848       51\n",
      "        ...  \n",
      "2080        1\n",
      "1539        1\n",
      "1844        1\n",
      "2489        1\n",
      "1411        1\n",
      "Name: capital_loss, Length: 92, dtype: int64 \n",
      "\n",
      "Nazwa kolumny: hours_per_week\n",
      "Dane z kolumny i ich liczba wystąpień:\n",
      "40    15217\n",
      "50     2819\n",
      "45     1824\n",
      "60     1475\n",
      "35     1297\n",
      "      ...  \n",
      "82        1\n",
      "92        1\n",
      "87        1\n",
      "74        1\n",
      "94        1\n",
      "Name: hours_per_week, Length: 94, dtype: int64 \n",
      "\n",
      "Nazwa kolumny: native_country\n",
      "Dane z kolumny i ich liczba wystąpień:\n",
      " United-States                 29170\n",
      " Mexico                          643\n",
      " Philippines                     198\n",
      " Germany                         137\n",
      " Canada                          121\n",
      " Puerto-Rico                     114\n",
      " El-Salvador                     106\n",
      " India                           100\n",
      " Cuba                             95\n",
      " England                          90\n",
      " Jamaica                          81\n",
      " South                            80\n",
      " China                            75\n",
      " Italy                            73\n",
      " Dominican-Republic               70\n",
      " Vietnam                          67\n",
      " Guatemala                        64\n",
      " Japan                            62\n",
      " Poland                           60\n",
      " Columbia                         59\n",
      " Taiwan                           51\n",
      " Haiti                            44\n",
      " Iran                             43\n",
      " Portugal                         37\n",
      " Nicaragua                        34\n",
      " Peru                             31\n",
      " France                           29\n",
      " Greece                           29\n",
      " Ecuador                          28\n",
      " Ireland                          24\n",
      " Hong                             20\n",
      " Cambodia                         19\n",
      " Trinadad&Tobago                  19\n",
      " Laos                             18\n",
      " Thailand                         18\n",
      " Yugoslavia                       16\n",
      " Outlying-US(Guam-USVI-etc)       14\n",
      " Honduras                         13\n",
      " Hungary                          13\n",
      " Scotland                         12\n",
      " Holand-Netherlands                1\n",
      "Name: native_country, dtype: int64 \n",
      "\n",
      "Nazwa kolumny: income\n",
      "Dane z kolumny i ich liczba wystąpień:\n",
      " <=50K    24720\n",
      " >50K      7841\n",
      "Name: income, dtype: int64 \n",
      "\n",
      "Baza danych po wprowadzeniu wstępnych modyfikacji:\n"
     ]
    },
    {
     "data": {
      "text/plain": "       age          workclass  fnlwgt    education  education_num  \\\n0       39          State-gov   77516    Bachelors             13   \n1       50   Self-emp-not-inc   83311    Bachelors             13   \n2       38            Private  215646      HS-grad              9   \n3       53            Private  234721         11th              7   \n4       28            Private  338409    Bachelors             13   \n...    ...                ...     ...          ...            ...   \n32556   27            Private  257302   Assoc-acdm             12   \n32557   40            Private  154374      HS-grad              9   \n32558   58            Private  151910      HS-grad              9   \n32559   22            Private  201490      HS-grad              9   \n32560   52       Self-emp-inc  287927      HS-grad              9   \n\n            marital_status          occupation    relationship    race  \\\n0            Never-married        Adm-clerical   Not-in-family   White   \n1       Married-civ-spouse     Exec-managerial         Husband   White   \n2                 Divorced   Handlers-cleaners   Not-in-family   White   \n3       Married-civ-spouse   Handlers-cleaners         Husband   Black   \n4       Married-civ-spouse      Prof-specialty            Wife   Black   \n...                    ...                 ...             ...     ...   \n32556   Married-civ-spouse        Tech-support            Wife   White   \n32557   Married-civ-spouse   Machine-op-inspct         Husband   White   \n32558              Widowed        Adm-clerical       Unmarried   White   \n32559        Never-married        Adm-clerical       Own-child   White   \n32560   Married-civ-spouse     Exec-managerial            Wife   White   \n\n           sex  capital_gain  capital_loss  hours_per_week  native_country  \\\n0         Male          2174             0              40   United-States   \n1         Male             0             0              13   United-States   \n2         Male             0             0              40   United-States   \n3         Male             0             0              40   United-States   \n4       Female             0             0              40            Cuba   \n...        ...           ...           ...             ...             ...   \n32556   Female             0             0              38   United-States   \n32557     Male             0             0              40   United-States   \n32558   Female             0             0              40   United-States   \n32559     Male             0             0              20   United-States   \n32560   Female         15024             0              40   United-States   \n\n       income  \n0       <=50K  \n1       <=50K  \n2       <=50K  \n3       <=50K  \n4       <=50K  \n...       ...  \n32556   <=50K  \n32557    >50K  \n32558   <=50K  \n32559   <=50K  \n32560    >50K  \n\n[32561 rows x 15 columns]",
      "text/html": "<div>\n<style scoped>\n    .dataframe tbody tr th:only-of-type {\n        vertical-align: middle;\n    }\n\n    .dataframe tbody tr th {\n        vertical-align: top;\n    }\n\n    .dataframe thead th {\n        text-align: right;\n    }\n</style>\n<table border=\"1\" class=\"dataframe\">\n  <thead>\n    <tr style=\"text-align: right;\">\n      <th></th>\n      <th>age</th>\n      <th>workclass</th>\n      <th>fnlwgt</th>\n      <th>education</th>\n      <th>education_num</th>\n      <th>marital_status</th>\n      <th>occupation</th>\n      <th>relationship</th>\n      <th>race</th>\n      <th>sex</th>\n      <th>capital_gain</th>\n      <th>capital_loss</th>\n      <th>hours_per_week</th>\n      <th>native_country</th>\n      <th>income</th>\n    </tr>\n  </thead>\n  <tbody>\n    <tr>\n      <th>0</th>\n      <td>39</td>\n      <td>State-gov</td>\n      <td>77516</td>\n      <td>Bachelors</td>\n      <td>13</td>\n      <td>Never-married</td>\n      <td>Adm-clerical</td>\n      <td>Not-in-family</td>\n      <td>White</td>\n      <td>Male</td>\n      <td>2174</td>\n      <td>0</td>\n      <td>40</td>\n      <td>United-States</td>\n      <td>&lt;=50K</td>\n    </tr>\n    <tr>\n      <th>1</th>\n      <td>50</td>\n      <td>Self-emp-not-inc</td>\n      <td>83311</td>\n      <td>Bachelors</td>\n      <td>13</td>\n      <td>Married-civ-spouse</td>\n      <td>Exec-managerial</td>\n      <td>Husband</td>\n      <td>White</td>\n      <td>Male</td>\n      <td>0</td>\n      <td>0</td>\n      <td>13</td>\n      <td>United-States</td>\n      <td>&lt;=50K</td>\n    </tr>\n    <tr>\n      <th>2</th>\n      <td>38</td>\n      <td>Private</td>\n      <td>215646</td>\n      <td>HS-grad</td>\n      <td>9</td>\n      <td>Divorced</td>\n      <td>Handlers-cleaners</td>\n      <td>Not-in-family</td>\n      <td>White</td>\n      <td>Male</td>\n      <td>0</td>\n      <td>0</td>\n      <td>40</td>\n      <td>United-States</td>\n      <td>&lt;=50K</td>\n    </tr>\n    <tr>\n      <th>3</th>\n      <td>53</td>\n      <td>Private</td>\n      <td>234721</td>\n      <td>11th</td>\n      <td>7</td>\n      <td>Married-civ-spouse</td>\n      <td>Handlers-cleaners</td>\n      <td>Husband</td>\n      <td>Black</td>\n      <td>Male</td>\n      <td>0</td>\n      <td>0</td>\n      <td>40</td>\n      <td>United-States</td>\n      <td>&lt;=50K</td>\n    </tr>\n    <tr>\n      <th>4</th>\n      <td>28</td>\n      <td>Private</td>\n      <td>338409</td>\n      <td>Bachelors</td>\n      <td>13</td>\n      <td>Married-civ-spouse</td>\n      <td>Prof-specialty</td>\n      <td>Wife</td>\n      <td>Black</td>\n      <td>Female</td>\n      <td>0</td>\n      <td>0</td>\n      <td>40</td>\n      <td>Cuba</td>\n      <td>&lt;=50K</td>\n    </tr>\n    <tr>\n      <th>...</th>\n      <td>...</td>\n      <td>...</td>\n      <td>...</td>\n      <td>...</td>\n      <td>...</td>\n      <td>...</td>\n      <td>...</td>\n      <td>...</td>\n      <td>...</td>\n      <td>...</td>\n      <td>...</td>\n      <td>...</td>\n      <td>...</td>\n      <td>...</td>\n      <td>...</td>\n    </tr>\n    <tr>\n      <th>32556</th>\n      <td>27</td>\n      <td>Private</td>\n      <td>257302</td>\n      <td>Assoc-acdm</td>\n      <td>12</td>\n      <td>Married-civ-spouse</td>\n      <td>Tech-support</td>\n      <td>Wife</td>\n      <td>White</td>\n      <td>Female</td>\n      <td>0</td>\n      <td>0</td>\n      <td>38</td>\n      <td>United-States</td>\n      <td>&lt;=50K</td>\n    </tr>\n    <tr>\n      <th>32557</th>\n      <td>40</td>\n      <td>Private</td>\n      <td>154374</td>\n      <td>HS-grad</td>\n      <td>9</td>\n      <td>Married-civ-spouse</td>\n      <td>Machine-op-inspct</td>\n      <td>Husband</td>\n      <td>White</td>\n      <td>Male</td>\n      <td>0</td>\n      <td>0</td>\n      <td>40</td>\n      <td>United-States</td>\n      <td>&gt;50K</td>\n    </tr>\n    <tr>\n      <th>32558</th>\n      <td>58</td>\n      <td>Private</td>\n      <td>151910</td>\n      <td>HS-grad</td>\n      <td>9</td>\n      <td>Widowed</td>\n      <td>Adm-clerical</td>\n      <td>Unmarried</td>\n      <td>White</td>\n      <td>Female</td>\n      <td>0</td>\n      <td>0</td>\n      <td>40</td>\n      <td>United-States</td>\n      <td>&lt;=50K</td>\n    </tr>\n    <tr>\n      <th>32559</th>\n      <td>22</td>\n      <td>Private</td>\n      <td>201490</td>\n      <td>HS-grad</td>\n      <td>9</td>\n      <td>Never-married</td>\n      <td>Adm-clerical</td>\n      <td>Own-child</td>\n      <td>White</td>\n      <td>Male</td>\n      <td>0</td>\n      <td>0</td>\n      <td>20</td>\n      <td>United-States</td>\n      <td>&lt;=50K</td>\n    </tr>\n    <tr>\n      <th>32560</th>\n      <td>52</td>\n      <td>Self-emp-inc</td>\n      <td>287927</td>\n      <td>HS-grad</td>\n      <td>9</td>\n      <td>Married-civ-spouse</td>\n      <td>Exec-managerial</td>\n      <td>Wife</td>\n      <td>White</td>\n      <td>Female</td>\n      <td>15024</td>\n      <td>0</td>\n      <td>40</td>\n      <td>United-States</td>\n      <td>&gt;50K</td>\n    </tr>\n  </tbody>\n</table>\n<p>32561 rows × 15 columns</p>\n</div>"
     },
     "metadata": {},
     "output_type": "display_data"
    }
   ],
   "source": [
    "new_df.replace(\" ?\", np.nan, inplace=True)\n",
    "\n",
    "for column in new_df.columns:\n",
    "    print(\"Nazwa kolumny: {}\".format(column))\n",
    "    print(\"Dane z kolumny i ich liczba wystąpień:\")\n",
    "    print(new_df[column].value_counts(), '\\n')\n",
    "\n",
    "print(\"Baza danych po wprowadzeniu wstępnych modyfikacji:\")\n",
    "display(new_df)"
   ],
   "metadata": {
    "collapsed": false,
    "pycharm": {
     "name": "#%%\n"
    }
   }
  },
  {
   "cell_type": "markdown",
   "metadata": {
    "pycharm": {
     "name": "#%% md\n"
    }
   },
   "source": [
    "Na przygotowanych danych przeprowadź proces tworzenia zbiorów uczących i testowych, tak by klasyfikator rozpoznawał do której z grup w kolumnie 'income' należy opisywana osoba\n"
   ]
  },
  {
   "cell_type": "code",
   "execution_count": 51,
   "outputs": [
    {
     "name": "stdout",
     "output_type": "stream",
     "text": [
      "Informacje o danych treningowych X_train\n",
      "<class 'pandas.core.frame.DataFrame'>\n",
      "Int64Index: 22792 entries, 32098 to 2732\n",
      "Data columns (total 14 columns):\n",
      " #   Column          Non-Null Count  Dtype \n",
      "---  ------          --------------  ----- \n",
      " 0   age             22792 non-null  int64 \n",
      " 1   workclass       21516 non-null  object\n",
      " 2   fnlwgt          22792 non-null  int64 \n",
      " 3   education       22792 non-null  object\n",
      " 4   education_num   22792 non-null  int64 \n",
      " 5   marital_status  22792 non-null  object\n",
      " 6   occupation      21514 non-null  object\n",
      " 7   relationship    22792 non-null  object\n",
      " 8   race            22792 non-null  object\n",
      " 9   sex             22792 non-null  object\n",
      " 10  capital_gain    22792 non-null  int64 \n",
      " 11  capital_loss    22792 non-null  int64 \n",
      " 12  hours_per_week  22792 non-null  int64 \n",
      " 13  native_country  22378 non-null  object\n",
      "dtypes: int64(6), object(8)\n",
      "memory usage: 2.6+ MB\n",
      "None\n",
      "\n",
      "Informacje o danych testowych X_test\n",
      "<class 'pandas.core.frame.DataFrame'>\n",
      "Int64Index: 9769 entries, 22278 to 20721\n",
      "Data columns (total 14 columns):\n",
      " #   Column          Non-Null Count  Dtype \n",
      "---  ------          --------------  ----- \n",
      " 0   age             9769 non-null   int64 \n",
      " 1   workclass       9209 non-null   object\n",
      " 2   fnlwgt          9769 non-null   int64 \n",
      " 3   education       9769 non-null   object\n",
      " 4   education_num   9769 non-null   int64 \n",
      " 5   marital_status  9769 non-null   object\n",
      " 6   occupation      9204 non-null   object\n",
      " 7   relationship    9769 non-null   object\n",
      " 8   race            9769 non-null   object\n",
      " 9   sex             9769 non-null   object\n",
      " 10  capital_gain    9769 non-null   int64 \n",
      " 11  capital_loss    9769 non-null   int64 \n",
      " 12  hours_per_week  9769 non-null   int64 \n",
      " 13  native_country  9600 non-null   object\n",
      "dtypes: int64(6), object(8)\n",
      "memory usage: 1.1+ MB\n",
      "None\n",
      "\n",
      "Odsetek brakujących danych w danych treningowych (jeśli ten odsetek jest różny od 0)\n",
      "workclass 0.055984555984555984\n",
      "occupation 0.05607230607230607\n",
      "native_country 0.018164268164268166\n"
     ]
    }
   ],
   "source": [
    "X = new_df.drop([\"income\"], axis=1)\n",
    "Y = new_df[\"income\"]\n",
    "\n",
    "X_train, X_test, Y_train, Y_test = train_test_split(X, Y, test_size=0.3, random_state=0)\n",
    "\n",
    "print(\"Informacje o danych treningowych X_train\")\n",
    "print(X_train.info())\n",
    "\n",
    "print(\"\\nInformacje o danych testowych X_test\")\n",
    "print(X_test.info())\n",
    "\n",
    "print('\\nOdsetek brakujących danych w danych treningowych (jeśli ten odsetek jest różny od 0)')\n",
    "for col in X_train.columns:\n",
    "    if X_train[col].isnull().mean() > 0:\n",
    "        print(col, (X_train[col].isnull().mean()))"
   ],
   "metadata": {
    "collapsed": false,
    "pycharm": {
     "name": "#%%\n"
    }
   }
  },
  {
   "cell_type": "markdown",
   "source": [
    "Zastąpienie brakujących danych najczęściej występującą wartością."
   ],
   "metadata": {
    "collapsed": false,
    "pycharm": {
     "name": "#%% md\n"
    }
   }
  },
  {
   "cell_type": "code",
   "execution_count": 52,
   "outputs": [],
   "source": [
    "for df2 in [X_train, X_test]:\n",
    "    df2['workclass'].fillna(X_train['workclass'].mode()[0], inplace=True)\n",
    "    df2['occupation'].fillna(X_train['occupation'].mode()[0], inplace=True)\n",
    "    df2['native_country'].fillna(X_train['native_country'].mode()[0], inplace=True)"
   ],
   "metadata": {
    "collapsed": false,
    "pycharm": {
     "name": "#%%\n"
    }
   }
  },
  {
   "cell_type": "markdown",
   "source": [
    "Sprawdzenie, czy dane treningowe i testowe nie zawierają braków:"
   ],
   "metadata": {
    "collapsed": false,
    "pycharm": {
     "name": "#%% md\n"
    }
   }
  },
  {
   "cell_type": "code",
   "execution_count": 53,
   "outputs": [
    {
     "name": "stdout",
     "output_type": "stream",
     "text": [
      "Dane treningowe:\n"
     ]
    },
    {
     "data": {
      "text/plain": "workclass         0\neducation         0\nmarital_status    0\noccupation        0\nrelationship      0\nrace              0\nsex               0\nnative_country    0\ndtype: int64"
     },
     "metadata": {},
     "output_type": "display_data"
    }
   ],
   "source": [
    "text_category = [col for col in X.columns if new_df[col].dtype == 'O']\n",
    "\n",
    "print('Dane treningowe:')\n",
    "display(X_train[text_category].isnull().sum())"
   ],
   "metadata": {
    "collapsed": false,
    "pycharm": {
     "name": "#%%\n"
    }
   }
  },
  {
   "cell_type": "code",
   "execution_count": 54,
   "outputs": [
    {
     "name": "stdout",
     "output_type": "stream",
     "text": [
      "\n",
      "Dane testowe:\n"
     ]
    },
    {
     "data": {
      "text/plain": "workclass         0\neducation         0\nmarital_status    0\noccupation        0\nrelationship      0\nrace              0\nsex               0\nnative_country    0\ndtype: int64"
     },
     "metadata": {},
     "output_type": "display_data"
    }
   ],
   "source": [
    "print('\\nDane testowe:')\n",
    "display(X_test[text_category].isnull().sum())"
   ],
   "metadata": {
    "collapsed": false,
    "pycharm": {
     "name": "#%%\n"
    }
   }
  },
  {
   "cell_type": "markdown",
   "metadata": {
    "pycharm": {
     "name": "#%% md\n"
    }
   },
   "source": [
    "Przy pomocy biblioteki [category_encoders](https://contrib.scikit-learn.org/category_encoders/) przeprowadź proces kodowania zmiennych tekstowych z pozostałych kategorii na wartości liczbowe:"
   ]
  },
  {
   "cell_type": "code",
   "execution_count": 55,
   "outputs": [],
   "source": [
    "text_category = [col for col in X.columns if new_df[col].dtype == 'O']\n",
    "\n",
    "encoder = ce.OneHotEncoder(cols = text_category)\n",
    "\n",
    "X_train = encoder.fit_transform(X_train)\n",
    "X_test = encoder.transform(X_test)\n",
    "\n",
    "scaler = RobustScaler()\n",
    "X_train = scaler.fit_transform(X_train)\n",
    "X_test = scaler.transform(X_test)"
   ],
   "metadata": {
    "collapsed": false,
    "pycharm": {
     "name": "#%%\n"
    }
   }
  },
  {
   "cell_type": "markdown",
   "metadata": {
    "pycharm": {
     "name": "#%% md\n"
    }
   },
   "source": [
    "Używając [GaussianNB](https://scikit-learn.org/stable/modules/generated/sklearn.naive_bayes.GaussianNB.html) przeprowadź klasyfikację danych ze zbiorów testowych i treningowych. Podaj dokładność modelu i macierz błędu wraz z jej wykresem i interpretacją."
   ]
  },
  {
   "cell_type": "code",
   "execution_count": 56,
   "outputs": [
    {
     "name": "stdout",
     "output_type": "stream",
     "text": [
      "Dokładność modelu dla danych treningowych Y_train:\n",
      "0.806730\n",
      "\n",
      "Macierz błędu - wartości - (dla danych treningowych):\n",
      "[[13975  3338]\n",
      " [ 1067  4412]]\n",
      "\n",
      "Dane prawdziwie dodatnie =  13975\n",
      "Dane prawdziwie ujemne =  4412\n",
      "Dane fałszywie dodatnie =  3338\n",
      "Dane fałszywie ujemne =  1067\n",
      "\n",
      "Macierz błędu - wykres - (dla danych treningowych):\n"
     ]
    },
    {
     "data": {
      "text/plain": "<Figure size 432x288 with 2 Axes>",
      "image/png": "[encoded data removed]"
     },
     "metadata": {},
     "output_type": "display_data"
    }
   ],
   "source": [
    "gnb = GaussianNB().fit(X_train, Y_train)\n",
    "\n",
    "Y_pred_train = gnb.predict(X_train)\n",
    "Y_pred = gnb.predict(X_test)\n",
    "\n",
    "print(\"Dokładność modelu dla danych treningowych Y_train:\")\n",
    "print(\"{:.6f}\".format(accuracy_score(Y_train, Y_pred_train)))\n",
    "\n",
    "conf_mat_train = confusion_matrix(Y_train, Y_pred_train)\n",
    "\n",
    "print('\\nMacierz błędu - wartości - (dla danych treningowych):')\n",
    "print(conf_mat_train)\n",
    "\n",
    "print('\\nDane prawdziwie dodatnie = ', conf_mat_train[0,0])\n",
    "print('Dane prawdziwie ujemne = ', conf_mat_train[1,1])\n",
    "print('Dane fałszywie dodatnie = ', conf_mat_train[0,1])\n",
    "print('Dane fałszywie ujemne = ', conf_mat_train[1,0])\n",
    "\n",
    "print('\\nMacierz błędu - wykres - (dla danych treningowych):')\n",
    "cm_matrix_train = pd.DataFrame(data=conf_mat_train, columns=['Actual Positive:1', 'Actual Negative:0'],\n",
    "                                 index=['Predict Positive:1', 'Predict Negative:0'])\n",
    "\n",
    "\n",
    "sns.heatmap(cm_matrix_train, annot=True, fmt='d', cmap='YlGnBu')\n",
    "plt.show()"
   ],
   "metadata": {
    "collapsed": false,
    "pycharm": {
     "name": "#%%\n"
    }
   }
  },
  {
   "cell_type": "markdown",
   "source": [
    "### Wnioski cz. 1.:\n",
    "- Dla danych treningowych model predykcji został obliczony z całkiem wysoką precyzją. Jednakże, mimo wszystko dane przewidziane błędnie stanowią około 1/4 danych przewidzianych prawidłowo."
   ],
   "metadata": {
    "collapsed": false,
    "pycharm": {
     "name": "#%% md\n"
    }
   }
  },
  {
   "cell_type": "code",
   "execution_count": 57,
   "outputs": [
    {
     "name": "stdout",
     "output_type": "stream",
     "text": [
      "\n",
      "Dokładność modelu dla danych testowych Y_test:\n",
      "0.808271\n",
      "\n",
      "Macierz błędu - wartości - (dla danych testowych):\n",
      "[[5999 1408]\n",
      " [ 465 1897]]\n",
      "\n",
      "Dane prawdziwie dodatnie =  5999\n",
      "Dane prawdziwie ujemne =  1897\n",
      "Dane fałszywie dodatnie =  1408\n",
      "Dane fałszywie ujemne =  465\n",
      "\n",
      "Macierz błędu - wykres - (dla danych testowych):\n"
     ]
    },
    {
     "data": {
      "text/plain": "<Figure size 432x288 with 2 Axes>",
      "image/png": "[encoded data removed]"
     },
     "metadata": {},
     "output_type": "display_data"
    }
   ],
   "source": [
    "print(\"\\nDokładność modelu dla danych testowych Y_test:\")\n",
    "print(\"{:.6f}\".format(accuracy_score(Y_test, Y_pred)))\n",
    "\n",
    "conf_mat = confusion_matrix(Y_test, Y_pred)\n",
    "\n",
    "print('\\nMacierz błędu - wartości - (dla danych testowych):')\n",
    "print(conf_mat)\n",
    "\n",
    "print('\\nDane prawdziwie dodatnie = ', conf_mat[0,0])\n",
    "print('Dane prawdziwie ujemne = ', conf_mat[1,1])\n",
    "print('Dane fałszywie dodatnie = ', conf_mat[0,1])\n",
    "print('Dane fałszywie ujemne = ', conf_mat[1,0])\n",
    "\n",
    "print('\\nMacierz błędu - wykres - (dla danych testowych):')\n",
    "cm_matrix = pd.DataFrame(data=conf_mat, columns=['Actual Positive:1', 'Actual Negative:0'],\n",
    "                                 index=['Predict Positive:1', 'Predict Negative:0'])\n",
    "\n",
    "\n",
    "sns.heatmap(cm_matrix, annot=True, fmt='d', cmap='YlGnBu')\n",
    "plt.show()"
   ],
   "metadata": {
    "collapsed": false,
    "pycharm": {
     "name": "#%%\n"
    }
   }
  },
  {
   "cell_type": "markdown",
   "source": [
    "### Wnioski cz. 2.:\n",
    "- Dla danych testowych sytuacja jest zbliżona do tej dla danych treningowych - tutaj także dane przewidziane błędnie stanowią około 1/4 danych przewidzianych prawidłowo."
   ],
   "metadata": {
    "collapsed": false,
    "pycharm": {
     "name": "#%% md\n"
    }
   }
  },
  {
   "cell_type": "markdown",
   "metadata": {
    "pycharm": {
     "name": "#%% md\n"
    }
   },
   "source": [
    "Przeprowadź uczenie klasyfikatora dla kolumn *race* i *native_country*. Podaj dokładność modeli i macierze błędu wraz z ich wykresami i interpretacją. Przedstaw wnioski, od czego zależą otrzymane wyniki."
   ]
  },
  {
   "cell_type": "code",
   "execution_count": 58,
   "outputs": [
    {
     "name": "stdout",
     "output_type": "stream",
     "text": [
      "Informacje o danych treningowych X_train\n",
      "<class 'pandas.core.frame.DataFrame'>\n",
      "Int64Index: 22792 entries, 32098 to 2732\n",
      "Data columns (total 2 columns):\n",
      " #   Column          Non-Null Count  Dtype \n",
      "---  ------          --------------  ----- \n",
      " 0   race            22792 non-null  object\n",
      " 1   native_country  22378 non-null  object\n",
      "dtypes: object(2)\n",
      "memory usage: 534.2+ KB\n",
      "None\n",
      "\n",
      "Informacje o danych testowych X_test\n",
      "<class 'pandas.core.frame.DataFrame'>\n",
      "Int64Index: 9769 entries, 22278 to 20721\n",
      "Data columns (total 2 columns):\n",
      " #   Column          Non-Null Count  Dtype \n",
      "---  ------          --------------  ----- \n",
      " 0   race            9769 non-null   object\n",
      " 1   native_country  9600 non-null   object\n",
      "dtypes: object(2)\n",
      "memory usage: 229.0+ KB\n",
      "None\n"
     ]
    }
   ],
   "source": [
    "X = new_df[[\"race\", \"native_country\"]]\n",
    "Y = new_df[\"income\"]\n",
    "X_train, X_test, Y_train, Y_test = train_test_split(X, Y, test_size=0.3, random_state=0)\n",
    "\n",
    "print(\"Informacje o danych treningowych X_train\")\n",
    "print(X_train.info())\n",
    "\n",
    "print(\"\\nInformacje o danych testowych X_test\")\n",
    "print(X_test.info())\n",
    "\n",
    "encoder = ce.OneHotEncoder(cols=[\"race\", \"native_country\"])\n",
    "\n",
    "X_train = encoder.fit_transform(X_train)\n",
    "X_test = encoder.transform(X_test)\n",
    "\n",
    "scaler = RobustScaler()\n",
    "X_train = scaler.fit_transform(X_train)\n",
    "X_test = scaler.transform(X_test)"
   ],
   "metadata": {
    "collapsed": false,
    "pycharm": {
     "name": "#%%\n"
    }
   }
  },
  {
   "cell_type": "code",
   "execution_count": 59,
   "outputs": [
    {
     "name": "stdout",
     "output_type": "stream",
     "text": [
      "Dokładność modelu dla danych treningowych Y_train:\n",
      "0.291023\n",
      "\n",
      "Macierz błędu - wartości - (dla danych treningowych):\n",
      "[[ 1264 16049]\n",
      " [  110  5369]]\n",
      "\n",
      "Dane prawdziwie dodatnie =  1264\n",
      "Dane prawdziwie ujemne =  5369\n",
      "Dane fałszywie dodatnie =  16049\n",
      "Dane fałszywie ujemne =  110\n",
      "\n",
      "Macierz błędu - wykres - (dla danych treningowych):\n"
     ]
    },
    {
     "data": {
      "text/plain": "<Figure size 432x288 with 2 Axes>",
      "image/png": "[encoded data removed]"
     },
     "metadata": {},
     "output_type": "display_data"
    }
   ],
   "source": [
    "gnb = GaussianNB().fit(X_train, Y_train)\n",
    "\n",
    "Y_pred_train = gnb.predict(X_train)\n",
    "Y_pred = gnb.predict(X_test)\n",
    "\n",
    "print(\"Dokładność modelu dla danych treningowych Y_train:\")\n",
    "print(\"{:.6f}\".format(accuracy_score(Y_train, Y_pred_train)))\n",
    "\n",
    "conf_mat_train = confusion_matrix(Y_train, Y_pred_train)\n",
    "\n",
    "print('\\nMacierz błędu - wartości - (dla danych treningowych):')\n",
    "print(conf_mat_train)\n",
    "\n",
    "print('\\nDane prawdziwie dodatnie = ', conf_mat_train[0,0])\n",
    "print('Dane prawdziwie ujemne = ', conf_mat_train[1,1])\n",
    "print('Dane fałszywie dodatnie = ', conf_mat_train[0,1])\n",
    "print('Dane fałszywie ujemne = ', conf_mat_train[1,0])\n",
    "\n",
    "print('\\nMacierz błędu - wykres - (dla danych treningowych):')\n",
    "cm_matrix_train = pd.DataFrame(data=conf_mat_train, columns=['Actual Positive:1', 'Actual Negative:0'],\n",
    "                                 index=['Predict Positive:1', 'Predict Negative:0'])\n",
    "\n",
    "\n",
    "sns.heatmap(cm_matrix_train, annot=True, fmt='d', cmap='YlGnBu')\n",
    "plt.show()"
   ],
   "metadata": {
    "collapsed": false,
    "pycharm": {
     "name": "#%%\n"
    }
   }
  },
  {
   "cell_type": "markdown",
   "source": [
    "### Wnioski cz.3.:\n",
    "- Dla danych treningowych model predykcji został wyliczony z bardzo niską precyzją. Już sama analiza obliczonej dokładności modelu pokazuje, że ta dokładność nie przekracza 30%. Dodatkowo, analizując wykres macierzy błędu można łatwo zauważyć, że w modelu występuje bardzo dużo wartości fałszywie dodatnich, których jest wielokrotnie więcej niż danych prawdziwie dodatnich. Znacząco zaniża to dokładność obliczonego modelu."
   ],
   "metadata": {
    "collapsed": false,
    "pycharm": {
     "name": "#%% md\n"
    }
   }
  },
  {
   "cell_type": "code",
   "execution_count": 60,
   "outputs": [
    {
     "name": "stdout",
     "output_type": "stream",
     "text": [
      "\n",
      "Dokładność modelu dla danych testowych Y_test:\n",
      "0.291023\n",
      "\n",
      "Macierz błędu - wartości - (dla danych testowych):\n",
      "[[ 534 6873]\n",
      " [  53 2309]]\n",
      "\n",
      "Dane prawdziwie dodatnie =  534\n",
      "Dane prawdziwie ujemne =  2309\n",
      "Dane fałszywie dodatnie =  6873\n",
      "Dane fałszywie ujemne =  53\n",
      "\n",
      "Macierz błędu - wykres - (dla danych testowych):\n"
     ]
    },
    {
     "data": {
      "text/plain": "<Figure size 432x288 with 2 Axes>",
      "image/png": "[encoded data removed]"
     },
     "metadata": {},
     "output_type": "display_data"
    }
   ],
   "source": [
    "print(\"\\nDokładność modelu dla danych testowych Y_test:\")\n",
    "print(\"{:.6f}\".format(accuracy_score(Y_test, Y_pred)))\n",
    "\n",
    "conf_mat = confusion_matrix(Y_test, Y_pred)\n",
    "\n",
    "print('\\nMacierz błędu - wartości - (dla danych testowych):')\n",
    "print(conf_mat)\n",
    "\n",
    "print('\\nDane prawdziwie dodatnie = ', conf_mat[0,0])\n",
    "\n",
    "print('Dane prawdziwie ujemne = ', conf_mat[1,1])\n",
    "\n",
    "print('Dane fałszywie dodatnie = ', conf_mat[0,1])\n",
    "\n",
    "print('Dane fałszywie ujemne = ', conf_mat[1,0])\n",
    "\n",
    "print('\\nMacierz błędu - wykres - (dla danych testowych):')\n",
    "cm_matrix = pd.DataFrame(data=conf_mat, columns=['Actual Positive:1', 'Actual Negative:0'],\n",
    "                                 index=['Predict Positive:1', 'Predict Negative:0'])\n",
    "\n",
    "\n",
    "sns.heatmap(cm_matrix, annot=True, fmt='d', cmap='YlGnBu')\n",
    "plt.show()"
   ],
   "metadata": {
    "collapsed": false,
    "pycharm": {
     "name": "#%%\n"
    }
   }
  },
  {
   "cell_type": "markdown",
   "source": [
    "### Wnioski cz. 4.:\n",
    "- Dla danych testowych sytuacja jest podobna, jak dla danych treningowych - tutaj też dokładność obliczonego modelu nie przekracza 30%, a w wysokim stopniu wpływa na to duża liczba wartości fałszywie dodatnich."
   ],
   "metadata": {
    "collapsed": false,
    "pycharm": {
     "name": "#%% md\n"
    }
   }
  },
  {
   "cell_type": "markdown",
   "source": [
    "### Wnioski - podsumowanie:\n",
    "- Bazując na poprzednich 4 częściach wniosków można stwierdzić, że dokładność obliczonego modelu predykcji w dużej mierze zależy od wyboru danych, na podstawie których taki model będzie tworzony. Właściwe dokonanie wspomnianego wyboru jest konieczne do osiągnięcia wysokiej dokładności dla przewidywanych danych."
   ],
   "metadata": {
    "collapsed": false,
    "pycharm": {
     "name": "#%% md\n"
    }
   }
  }
 ],
 "metadata": {
  "interpreter": {
   "hash": "9164a3399a70d355c381b62813f30880ed90ca5a6f321bf0d85375640bda7ee5"
  },
  "kernelspec": {
   "display_name": "Python 3.7.6 64-bit",
   "language": "python",
   "name": "python3"
  },
  "language_info": {
   "codemirror_mode": {
    "name": "ipython",
    "version": 3
   },
   "file_extension": ".py",
   "mimetype": "text/x-python",
   "name": "python",
   "nbconvert_exporter": "python",
   "pygments_lexer": "ipython3",
   "version": "3.7.6"
  },
  "orig_nbformat": 4
 },
 "nbformat": 4,
 "nbformat_minor": 2
}